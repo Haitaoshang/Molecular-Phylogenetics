{
 "cells": [
  {
   "cell_type": "code",
   "execution_count": 81,
   "metadata": {},
   "outputs": [],
   "source": [
    "import seaborn as sns\n",
    "import numpy as np\n",
    "import re\n",
    "import pandas as pd"
   ]
  },
  {
   "cell_type": "code",
   "execution_count": 82,
   "metadata": {},
   "outputs": [],
   "source": [
    "fasta = open ('RedA_0201_sequences.fa', 'r').read()"
   ]
  },
  {
   "cell_type": "code",
   "execution_count": 83,
   "metadata": {},
   "outputs": [
    {
     "data": {
      "text/plain": [
       "''"
      ]
     },
     "execution_count": 83,
     "metadata": {},
     "output_type": "execute_result"
    }
   ],
   "source": [
    "fasta = re.split('^>', fasta, flags=re.M) #split file on the carat for fasta. re.M flag means that the file has multiple lines. Every beginning of the line is a new thing; otherwise hat will only match first entry and it'll be ONE massive file.\n",
    "fasta.pop(0) #removes first element, which wouldn't be populated\n",
    "#THIS ISN'T WORKING, maybe?"
   ]
  },
  {
   "cell_type": "code",
   "execution_count": 94,
   "metadata": {},
   "outputs": [],
   "source": [
    "#traverse list to separate header from aa\n",
    "all_headers = []\n",
    "all_sequences = []\n",
    "seq_length = []\n",
    "for block in fasta:\n",
    "    block = block.strip().split('\\n')  #puts headers and fasta aa on different lines\n",
    "    header = block[0]\n",
    "    sequence = ''.join(block[1:])\n",
    "    \n",
    "    all_headers.append(header)\n",
    "    all_sequences.append(sequence)\n",
    "    seq_length.append(len(sequence))"
   ]
  },
  {
   "cell_type": "code",
   "execution_count": 95,
   "metadata": {},
   "outputs": [
    {
     "data": {
      "text/plain": [
       "<matplotlib.axes._subplots.AxesSubplot at 0x1a17180240>"
      ]
     },
     "execution_count": 95,
     "metadata": {},
     "output_type": "execute_result"
    },
    {
     "data": {
      "image/png": "[encoded data removed]",
      "text/plain": [
       "<matplotlib.figure.Figure at 0x104dd4390>"
      ]
     },
     "metadata": {},
     "output_type": "display_data"
    }
   ],
   "source": [
    "sns.kdeplot(seq_length) #distribution of lengths of sequences"
   ]
  },
  {
   "cell_type": "code",
   "execution_count": 96,
   "metadata": {},
   "outputs": [],
   "source": [
    "seq_length = np.asarray(seq_length)\n",
    "all_sequences = np.asarray(all_sequences)\n",
    "all_headers = np.asarray(all_headers)"
   ]
  },
  {
   "cell_type": "code",
   "execution_count": 97,
   "metadata": {},
   "outputs": [
    {
     "data": {
      "text/plain": [
       "array(['KZL84460.1 cyanide hydratase [Colletotrichum incanum] >OHW97723.1 cyanide hydratase [Colletotrichum incanum]',\n",
       "       'KZL78593.1 cyanide hydratase [Colletotrichum tofieldiae]',\n",
       "       'OLN83082.1 Cyanide hydratase [Colletotrichum chlorophyti]', ...,\n",
       "       'GBC17240.1 nitrilase-like protein [Rhizophagus irregularis DAOM 181602=DAOM 197198]',\n",
       "       'WP_021408662.1 carbon-nitrogen hydrolase [Clostridioides difficile] >EQH98189.1 carbon-nitrogen hydrolase family protein [Clostridioides difficile F314] >CCL36413.1 Putative nitrilase/cyanide hydratase and apolipoprotein N-acyltransferase [Clostridioides difficile T23] >OMK14183.1 hypothetical protein BER27_002887 [Clostridioides difficile] >PBE52121.1 carbon-nitrogen hydrolase [Clostridioides difficile] >PBE68583.1 carbon-nitrogen hydrolase [Clostridioides difficile] >PBE95302.1 carbon-nitrogen hydrolase [Clostridioides difficile] >PBF12848.1 carbon-nitrogen hydrolase [Clostridioides difficile]',\n",
       "       'WP_069942830.1 hydratase [Pseudomonas putida]'], dtype='<U30805')"
      ]
     },
     "execution_count": 97,
     "metadata": {},
     "output_type": "execute_result"
    }
   ],
   "source": [
    "edited_sequences = all_sequences[(seq_length >= 200) & (seq_length <= 500)]\n",
    "all_headers[ (seq_length >= 200) & (seq_length <= 500)]"
   ]
  },
  {
   "cell_type": "code",
   "execution_count": 98,
   "metadata": {},
   "outputs": [
    {
     "data": {
      "text/plain": [
       "['Colletotrichum', 'Colletotrichum']"
      ]
     },
     "execution_count": 98,
     "metadata": {},
     "output_type": "execute_result"
    }
   ],
   "source": [
    "re.findall('\\[([^\\s[\\]]+)', all_headers[1])"
   ]
  },
  {
   "cell_type": "code",
   "execution_count": 99,
   "metadata": {},
   "outputs": [],
   "source": [
    "out = open('RedA_0201_lengthfiltered.txt','w')\n",
    "not_genera = set('Proteobacteria bacterium Type-E Type-D Betaproteobacteria'.split()) #gets rid of any unwanted \"fake genera\" names by splitting into their own set\n",
    "found_genera = set() #builds your final set of wanted species FASTA entries\n",
    "for header, sequence in zip(all_headers, edited_sequences):\n",
    "    genus = re.findall('\\[([^\\s[\\]]+)', header) #for each genus name, which is the FIRST entry in the header string...\n",
    "    if found_genera.intersection(genus): #if this is a genus you've already found, ignore\n",
    "        continue\n",
    "    if not_genera.issuperset(genus): #if this is a genus name that is a \"fake\" name, ignore\n",
    "        continue\n",
    "    found_genera.update(genus) #if not, it's a new genus--keep the header and sequence\n",
    "    out.write('>%s\\n%s\\n' % (header, sequence) ) #encodes the \"wrong\" line below. string, line break, string, then IDs which strings of data\n",
    "    #out.write('>'+header+'\\n'+sequence+'\\n')\n",
    "out.close() #provides the HIT IDs that we just recruited, which we can now use as a file transfer to the cluster to get the appropriate FASTA data from NCBI nr db"
   ]
  }
 ],
 "metadata": {
  "kernelspec": {
   "display_name": "Python 3",
   "language": "python",
   "name": "python3"
  },
  "language_info": {
   "codemirror_mode": {
    "name": "ipython",
    "version": 3
   },
   "file_extension": ".py",
   "mimetype": "text/x-python",
   "name": "python",
   "nbconvert_exporter": "python",
   "pygments_lexer": "ipython3",
   "version": "3.7.4"
  }
 },
 "nbformat": 4,
 "nbformat_minor": 2
}
